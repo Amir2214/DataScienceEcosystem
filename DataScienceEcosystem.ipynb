{
 "cells": [
  {
   "cell_type": "markdown",
   "id": "0de06243-a3b7-49d7-a70c-72a463695bc4",
   "metadata": {
    "tags": []
   },
   "source": [
    "# Data Science Tools and Ecosystem"
   ]
  },
  {
   "cell_type": "markdown",
   "id": "335db10d-45d9-4d7c-9542-6a5fb216a633",
   "metadata": {},
   "source": [
    "In this notebook, Data Science Tools and Ecosystem are summarized."
   ]
  },
  {
   "cell_type": "markdown",
   "id": "a7cc8a83-0f94-4495-acd9-55d6ef6565c7",
   "metadata": {},
   "source": [
    "some of the popular languages that data Scientists use are:\n",
    "1. Python\n",
    "2. R\n",
    "3. Java\n",
    "4. Scala\n",
    "5. Julia"
   ]
  },
  {
   "cell_type": "markdown",
   "id": "7bcdb065-8fef-4611-b0dc-b8431bb625e3",
   "metadata": {},
   "source": [
    "Some of the commonly used libraries used by Data Scientists include:\n",
    "1. Numpy\n",
    "2. Pandas\n",
    "3. matplotlib.pyplot\n"
   ]
  },
  {
   "cell_type": "markdown",
   "id": "416ad545-87b1-417c-9807-3b5b62af6d9c",
   "metadata": {},
   "source": [
    "|Data Science Tool|\n",
    "|-----------------|\n",
    "|Jupyter Notebook |\n",
    "| Jupyter Lab     |\n",
    "| R Studio        |\n",
    "\n"
   ]
  },
  {
   "cell_type": "markdown",
   "id": "363ef45e-1a06-417d-9135-2a967585371c",
   "metadata": {},
   "source": [
    "### Below are a few examples of evaluating arithmetic operations in Python"
   ]
  },
  {
   "cell_type": "code",
   "execution_count": 2,
   "id": "d75d4f9c-8ced-400a-8ee5-44d2d51d6887",
   "metadata": {
    "tags": []
   },
   "outputs": [
    {
     "data": {
      "text/plain": [
       "17"
      ]
     },
     "execution_count": 2,
     "metadata": {},
     "output_type": "execute_result"
    }
   ],
   "source": [
    "(3*4) + 5\n",
    "#This is a simple arithmetic expression to multiply and then add integers#"
   ]
  },
  {
   "cell_type": "code",
   "execution_count": 37,
   "id": "6deac22c-5733-4fd7-b966-1fb4694f64b2",
   "metadata": {
    "tags": []
   },
   "outputs": [
    {
     "name": "stdout",
     "output_type": "stream",
     "text": [
      "3.3333333333333335\n"
     ]
    }
   ],
   "source": [
    "#This will convert 200 minutes to hours by dividing by 60#\n",
    "minutes = 200\n",
    "hours = minutes/60\n",
    "print(hours)"
   ]
  },
  {
   "cell_type": "markdown",
   "id": "e24a8101-d10b-4cb4-a754-c23e32b79f52",
   "metadata": {},
   "source": [
    "**Objectives**:\n",
    "- List 5 popular langusges for Data Science\n",
    "- List libraries used in Data Science\n",
    "- Convert minutes to hour"
   ]
  },
  {
   "cell_type": "markdown",
   "id": "0d2418ac-f2c7-4fe0-9544-15e97cff9644",
   "metadata": {},
   "source": [
    "## Author\n",
    "Alhazan Amir"
   ]
  }
 ],
 "metadata": {
  "kernelspec": {
   "display_name": "Python 3 (ipykernel)",
   "language": "python",
   "name": "python3"
  },
  "language_info": {
   "codemirror_mode": {
    "name": "ipython",
    "version": 3
   },
   "file_extension": ".py",
   "mimetype": "text/x-python",
   "name": "python",
   "nbconvert_exporter": "python",
   "pygments_lexer": "ipython3",
   "version": "3.11.4"
  }
 },
 "nbformat": 4,
 "nbformat_minor": 5
}
